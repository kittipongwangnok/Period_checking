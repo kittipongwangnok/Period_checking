{
 "cells": [
  {
   "cell_type": "code",
   "execution_count": 1,
   "id": "17a801f0",
   "metadata": {},
   "outputs": [],
   "source": [
    "#Import module\n",
    "import sys\n",
    "import os\n",
    "import numpy as np\n",
    "import matplotlib.pyplot as plt\n",
    "from scipy.optimize import curve_fit\n",
    "from scipy import stats\n",
    "import scipy.optimize as optimization  \n",
    "import pandas as pd\n",
    "#Latex font\n",
    "import matplotlib as mpl\n",
    "from matplotlib import rc\n",
    "plt.rc('text', usetex=True)\n",
    "plt.rc('font', family='serif',size=16)"
   ]
  },
  {
   "cell_type": "code",
   "execution_count": 2,
   "id": "13090357",
   "metadata": {},
   "outputs": [
    {
     "name": "stdout",
     "output_type": "stream",
     "text": [
      "Linear_fit_perio_year_20161225.dat      Linear_fit_perio_year_20200122.out\r\n",
      "Linear_fit_perio_year_20161225.ipynb    Linear_fit_perio_year_20200122_Res.jpg\r\n",
      "Linear_fit_perio_year_20161225.out      Linear_fit_period_year_2017KG5.dat\r\n",
      "Linear_fit_perio_year_20161225_Res.jpg  Linear_fit_period_year_2017KG5.ipynb\r\n",
      "Linear_fit_perio_year_20170217.dat      Linear_fit_period_year_2017KG5.out\r\n",
      "Linear_fit_perio_year_20170217.ipynb    Linear_fit_period_year_2017KG5_Res.jpg\r\n",
      "Linear_fit_perio_year_20170217.out      Linear_fit_period_year_2020KG5.dat\r\n",
      "Linear_fit_perio_year_20170217_Res.jpg  Linear_fit_period_year_2020KG5.ipynb\r\n",
      "Linear_fit_perio_year_20200121.dat      Linear_fit_period_year_2020KG5.out\r\n",
      "Linear_fit_perio_year_20200121.ipynb    Linear_fit_period_year_2020KG5_Res.jpg\r\n",
      "Linear_fit_perio_year_20200121.out      Linear_fit_period_year_2020g.dat\r\n",
      "Linear_fit_perio_year_20200121_Res.jpg  Linear_fit_period_year_2020g.ipynb\r\n",
      "Linear_fit_perio_year_20200122.dat      Linear_fit_period_year_2020g.out\r\n",
      "Linear_fit_perio_year_20200122.ipynb    Linear_fit_period_year_2020g_Res.jpg\r\n"
     ]
    }
   ],
   "source": [
    "ls"
   ]
  },
  {
   "cell_type": "code",
   "execution_count": 3,
   "id": "9e5085f0",
   "metadata": {},
   "outputs": [],
   "source": [
    "#Read data ---#1\n",
    "Input = \"Linear_fit_period_year_2017KG5.dat\"\n",
    "Data   = np.genfromtxt(Input)\n",
    "\n",
    "#Input calculation ---#1\n",
    "N = 2450000\n",
    "\n",
    "Epoch = Data[:,0]\n",
    "T_obs = Data[:,1]\n",
    "T_obs_err = Data[:,2]"
   ]
  },
  {
   "cell_type": "code",
   "execution_count": 4,
   "id": "cd91fa3c",
   "metadata": {},
   "outputs": [
    {
     "data": {
      "image/png": "[encoded data removed]",
      "text/plain": [
       "<Figure size 720x360 with 1 Axes>"
      ]
     },
     "metadata": {
      "needs_background": "light"
     },
     "output_type": "display_data"
    }
   ],
   "source": [
    "fig, (ax0) = plt.subplots(1, 1, sharex=True, sharey=False, figsize=(10, 5), tight_layout=True)\n",
    "#plt.xlim(-0.04,0.04)\n",
    "#plt.xlabel('Orbital phase')\n",
    "\n",
    "ax0.tick_params(direction='in', which='both', bottom='on',top='on', right = 'on')\n",
    "#ax1.tick_params(direction='in', which='both', bottom='on',top='on', right = 'on')\n",
    "\n",
    "ax0.errorbar(Epoch, T_obs, yerr= T_obs_err, fmt='o', color='blue',\n",
    "             ecolor='lightgray', elinewidth=1, capsize=0)\n",
    "\n",
    "\n",
    "#ax0.legend(loc=\"best\")\n",
    "ax0.set_xlabel('E')\n",
    "ax0.set_ylabel('$T_{E}$')\n",
    "\n",
    "#ax0.set_ylim(-30, 40)\n",
    "\n",
    "fig.align_ylabels()\n",
    "#output_filename = os.path.splitext(__file__)[0] + '.png'\n",
    "#plt.savefig(output_filename, dpi=1000)\n",
    "#plt.savefig(\"spot_longitude_Beuermann_Kittipong.png\")\n",
    "plt.show()"
   ]
  },
  {
   "cell_type": "code",
   "execution_count": 5,
   "id": "5f2f7acb",
   "metadata": {},
   "outputs": [
    {
     "name": "stdout",
     "output_type": "stream",
     "text": [
      "3\n"
     ]
    }
   ],
   "source": [
    "x = Epoch\n",
    "y = T_obs\n",
    "dy = T_obs_err\n",
    "\n",
    "len_x = len(x)\n",
    "print(len_x)"
   ]
  },
  {
   "cell_type": "code",
   "execution_count": 6,
   "id": "c26dcaa0",
   "metadata": {},
   "outputs": [
    {
     "name": "stdout",
     "output_type": "stream",
     "text": [
      "Slope (m) is  0.06236285924166625\n",
      "The error of the slope (dm) is  9.30010138443165e-16\n",
      "Intercept (c) is  2448773.213236057\n",
      "The error of the intercept (dc) is  1.9534090456161116e-05\n",
      "[[ 9.30010138e-16 -1.34784517e-10]\n",
      " [-1.34784517e-10  1.95340905e-05]]\n"
     ]
    }
   ],
   "source": [
    "# Calling the scipy's curve_fit function from optimize module\n",
    "from scipy.optimize import curve_fit\n",
    "\n",
    "# Defining a fitting fucntion\n",
    "def linear_fit(x,m,c):\n",
    "    return m*x + c\n",
    "\n",
    "params, covariance = curve_fit(f = linear_fit, xdata = x, ydata = y)\n",
    "\n",
    "m = params[0]\n",
    "c = params[1]\n",
    "\n",
    "dm = covariance[0,0]\n",
    "dc = covariance[1,1]\n",
    "\n",
    "\n",
    "print('Slope (m) is ', m)\n",
    "print('The error of the slope (dm) is ', dm)\n",
    "print('Intercept (c) is ', c)\n",
    "print('The error of the intercept (dc) is ', dc)\n",
    "print(covariance)"
   ]
  },
  {
   "cell_type": "code",
   "execution_count": 7,
   "id": "8b6edf53",
   "metadata": {},
   "outputs": [
    {
     "name": "stdout",
     "output_type": "stream",
     "text": [
      "[2457802.23271517 2457802.41981902 2457829.36056651]\n",
      "[2457802.23272278 2457802.41981136 2457829.36056655]\n",
      "[-7.61402771e-06  7.65826553e-06 -4.42378223e-08]\n",
      "0.14693121888129448\n"
     ]
    }
   ],
   "source": [
    "# define a sequence of inputs between the smallest and largest known inputs\n",
    "x_min, x_max = np.amin(x), np.amax(x)\n",
    "x_line = np.linspace(x_min, x_max)\n",
    "# calculate the output for the range\n",
    "y_line = linear_fit(x_line, m, c)\n",
    "\n",
    "ys = m*x + c #just only our data point\n",
    "Residual = y - ys\n",
    "print(y)\n",
    "print(ys)\n",
    "print(Residual)\n",
    "\n",
    "np.savetxt(\"Linear_fit_period_year_2017KG5.out\", np.c_[x, Residual, dy])\n",
    "\n",
    "#Reduced_chisqrt\n",
    "m = 2\n",
    "dof = len_x - m\n",
    "Chi_sqr = ((y - ys)**2/(dy)**2)/dof\n",
    "Reduced_chisq = sum(Chi_sqr)\n",
    "print(Reduced_chisq)"
   ]
  },
  {
   "cell_type": "code",
   "execution_count": 8,
   "id": "e0991b57",
   "metadata": {},
   "outputs": [
    {
     "data": {
      "image/png": "[encoded data removed]",
      "text/plain": [
       "<Figure size 720x360 with 1 Axes>"
      ]
     },
     "metadata": {
      "needs_background": "light"
     },
     "output_type": "display_data"
    }
   ],
   "source": [
    "#Plotgraph\n",
    "fig=plt.figure(figsize=(10, 5))\n",
    "plt.errorbar(x, y, yerr= dy, fmt='o', markersize=8, color='blue', ecolor='lightgray')\n",
    "# create a line plot for the mapping function\n",
    "plt.plot(x, ys, '-', color='red')\n",
    "#plt.plot(BJD_time, OC_s_ecc, lw=2, color='black')\n",
    "#plt.xlim(-6000,6000)\n",
    "#plt.ylim(-200,200)\n",
    "#plt.ylim(-40,60)\n",
    "plt.xlabel('Epoch')\n",
    "plt.ylabel('$T_{E}$')\n",
    "plt.grid(linestyle='dotted')\n",
    "#####plt.title('O-C diagram: DP Leo')\n",
    "#output_filename = os.path.splitext(__file__)[0] + '.png'\n",
    "#plt.savefig(output_filename, dpi=1000)\n",
    "plt.show()"
   ]
  },
  {
   "cell_type": "code",
   "execution_count": 9,
   "id": "c956b8d4",
   "metadata": {},
   "outputs": [
    {
     "data": {
      "image/png": "[encoded data removed]",
      "text/plain": [
       "<Figure size 720x360 with 2 Axes>"
      ]
     },
     "metadata": {
      "needs_background": "light"
     },
     "output_type": "display_data"
    }
   ],
   "source": [
    "fig, (ax0, ax1) = plt.subplots(2, 1, gridspec_kw={'height_ratios': [4, 1]}, sharex=True, sharey=False, figsize=(10, 5), tight_layout=True)\n",
    "plt.xlabel('Epoch')\n",
    "\n",
    "ax0.tick_params(direction='in', which='both', bottom='on',top='on', right = 'on')\n",
    "ax1.tick_params(direction='in', which='both', bottom='on',top='on', right = 'on')\n",
    "\n",
    "ax0.errorbar(x, y, yerr= dy, fmt='o', markersize=8, color='blue', ecolor='lightgray')\n",
    "ax0.plot(x, ys, '-', color='red',label='Linear\\_fit, $\\chi_{red}^{2}$ = '+str('%0.3f' %(Reduced_chisq)))\n",
    "\n",
    "ax0.legend(loc=\"best\")\n",
    "ax0.set_ylabel('$T_{E}$')\n",
    "ax1.set_ylabel('Residuals (sec)')\n",
    "\n",
    "\n",
    "ax1.errorbar(x, Residual, yerr= dy, fmt='o', markersize=8, color='black', ecolor='lightgray')\n",
    "ax1.axhline(y=0, color='black', linestyle='-')\n",
    "plt.savefig(\"Linear_fit_period_year_2017KG5_Res.jpg\", dpi=1000)\n",
    "\n",
    "plt.show()"
   ]
  },
  {
   "cell_type": "code",
   "execution_count": null,
   "id": "4facb327",
   "metadata": {},
   "outputs": [],
   "source": []
  },
  {
   "cell_type": "code",
   "execution_count": null,
   "id": "88e577ea",
   "metadata": {},
   "outputs": [],
   "source": []
  }
 ],
 "metadata": {
  "kernelspec": {
   "display_name": "Python 3 (ipykernel)",
   "language": "python",
   "name": "python3"
  },
  "language_info": {
   "codemirror_mode": {
    "name": "ipython",
    "version": 3
   },
   "file_extension": ".py",
   "mimetype": "text/x-python",
   "name": "python",
   "nbconvert_exporter": "python",
   "pygments_lexer": "ipython3",
   "version": "3.9.7"
  }
 },
 "nbformat": 4,
 "nbformat_minor": 5
}
