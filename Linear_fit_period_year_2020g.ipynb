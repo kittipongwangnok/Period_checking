{
 "cells": [
  {
   "cell_type": "code",
   "execution_count": 1,
   "id": "17a801f0",
   "metadata": {},
   "outputs": [],
   "source": [
    "#Import module\n",
    "import sys\n",
    "import os\n",
    "import numpy as np\n",
    "import matplotlib.pyplot as plt\n",
    "from scipy.optimize import curve_fit\n",
    "from scipy import stats\n",
    "import scipy.optimize as optimization  \n",
    "import pandas as pd\n",
    "#Latex font\n",
    "import matplotlib as mpl\n",
    "from matplotlib import rc\n",
    "plt.rc('text', usetex=True)\n",
    "plt.rc('font', family='serif',size=16)"
   ]
  },
  {
   "cell_type": "code",
   "execution_count": 2,
   "id": "13090357",
   "metadata": {},
   "outputs": [
    {
     "name": "stdout",
     "output_type": "stream",
     "text": [
      "Linear_fit_perio_year_20161225.dat      Linear_fit_perio_year_20200122.out\r\n",
      "Linear_fit_perio_year_20161225.ipynb    Linear_fit_perio_year_20200122_Res.jpg\r\n",
      "Linear_fit_perio_year_20161225.out      Linear_fit_period_year_2017KG5.dat\r\n",
      "Linear_fit_perio_year_20161225_Res.jpg  Linear_fit_period_year_2017KG5.ipynb\r\n",
      "Linear_fit_perio_year_20170217.dat      Linear_fit_period_year_2017KG5.out\r\n",
      "Linear_fit_perio_year_20170217.ipynb    Linear_fit_period_year_2017KG5_Res.jpg\r\n",
      "Linear_fit_perio_year_20170217.out      Linear_fit_period_year_2020KG5.dat\r\n",
      "Linear_fit_perio_year_20170217_Res.jpg  Linear_fit_period_year_2020KG5.ipynb\r\n",
      "Linear_fit_perio_year_20200121.dat      Linear_fit_period_year_2020KG5.out\r\n",
      "Linear_fit_perio_year_20200121.ipynb    Linear_fit_period_year_2020KG5_Res.jpg\r\n",
      "Linear_fit_perio_year_20200121.out      Linear_fit_period_year_2020g.dat\r\n",
      "Linear_fit_perio_year_20200121_Res.jpg  Linear_fit_period_year_2020g.ipynb\r\n",
      "Linear_fit_perio_year_20200122.dat      Linear_fit_period_year_2020g.out\r\n",
      "Linear_fit_perio_year_20200122.ipynb    Linear_fit_period_year_2020g_Res.jpg\r\n"
     ]
    }
   ],
   "source": [
    "ls"
   ]
  },
  {
   "cell_type": "code",
   "execution_count": 3,
   "id": "9e5085f0",
   "metadata": {},
   "outputs": [],
   "source": [
    "#Read data ---#1\n",
    "Input = \"Linear_fit_period_year_2020g.dat\"\n",
    "Data   = np.genfromtxt(Input)\n",
    "\n",
    "#Input calculation ---#1\n",
    "N = 2450000\n",
    "\n",
    "Epoch = Data[:,0]\n",
    "T_obs = Data[:,1]\n",
    "T_obs_err = Data[:,2]"
   ]
  },
  {
   "cell_type": "code",
   "execution_count": 4,
   "id": "cd91fa3c",
   "metadata": {},
   "outputs": [
    {
     "data": {
      "image/png": "[encoded data removed]",
      "text/plain": [
       "<Figure size 720x360 with 1 Axes>"
      ]
     },
     "metadata": {
      "needs_background": "light"
     },
     "output_type": "display_data"
    }
   ],
   "source": [
    "fig, (ax0) = plt.subplots(1, 1, sharex=True, sharey=False, figsize=(10, 5), tight_layout=True)\n",
    "#plt.xlim(-0.04,0.04)\n",
    "#plt.xlabel('Orbital phase')\n",
    "\n",
    "ax0.tick_params(direction='in', which='both', bottom='on',top='on', right = 'on')\n",
    "#ax1.tick_params(direction='in', which='both', bottom='on',top='on', right = 'on')\n",
    "\n",
    "ax0.errorbar(Epoch, T_obs, yerr= T_obs_err, fmt='o', color='blue',\n",
    "             ecolor='lightgray', elinewidth=1, capsize=0)\n",
    "\n",
    "\n",
    "#ax0.legend(loc=\"best\")\n",
    "ax0.set_xlabel('E')\n",
    "ax0.set_ylabel('$T_{E}$')\n",
    "\n",
    "#ax0.set_ylim(-30, 40)\n",
    "\n",
    "fig.align_ylabels()\n",
    "#output_filename = os.path.splitext(__file__)[0] + '.png'\n",
    "#plt.savefig(output_filename, dpi=1000)\n",
    "#plt.savefig(\"spot_longitude_Beuermann_Kittipong.png\")\n",
    "plt.show()"
   ]
  },
  {
   "cell_type": "code",
   "execution_count": 5,
   "id": "5f2f7acb",
   "metadata": {},
   "outputs": [
    {
     "name": "stdout",
     "output_type": "stream",
     "text": [
      "5\n"
     ]
    }
   ],
   "source": [
    "x = Epoch\n",
    "y = T_obs\n",
    "dy = T_obs_err\n",
    "\n",
    "len_x = len(x)\n",
    "print(len_x)"
   ]
  },
  {
   "cell_type": "code",
   "execution_count": 6,
   "id": "c26dcaa0",
   "metadata": {},
   "outputs": [
    {
     "name": "stdout",
     "output_type": "stream",
     "text": [
      "Slope (m) is  0.06236282479497149\n",
      "The error of the slope (dm) is  7.995478133656051e-16\n",
      "Intercept (c) is  2448773.2186609507\n",
      "The error of the intercept (dc) is  2.0993733964535667e-05\n",
      "[[ 7.99547813e-16 -1.29558444e-10]\n",
      " [-1.29558444e-10  2.09937340e-05]]\n"
     ]
    }
   ],
   "source": [
    "# Calling the scipy's curve_fit function from optimize module\n",
    "from scipy.optimize import curve_fit\n",
    "\n",
    "# Defining a fitting fucntion\n",
    "def linear_fit(x,m,c):\n",
    "    return m*x + c\n",
    "\n",
    "params, covariance = curve_fit(f = linear_fit, xdata = x, ydata = y)\n",
    "\n",
    "m = params[0]\n",
    "c = params[1]\n",
    "\n",
    "dm = covariance[0,0]\n",
    "dc = covariance[1,1]\n",
    "\n",
    "\n",
    "print('Slope (m) is ', m)\n",
    "print('The error of the slope (dm) is ', dm)\n",
    "print('Intercept (c) is ', c)\n",
    "print('The error of the intercept (dc) is ', dc)\n",
    "print(covariance)"
   ]
  },
  {
   "cell_type": "code",
   "execution_count": 10,
   "id": "8b6edf53",
   "metadata": {},
   "outputs": [
    {
     "name": "stdout",
     "output_type": "stream",
     "text": [
      "[2458851.30060629 2458870.25888747 2458871.1943114  2458873.4394328\n",
      " 2458926.13599003]\n",
      "[2771981.21866095 2772589.21866095 2772619.21866095 2772691.21866095\n",
      " 2774381.21866095]\n",
      "[-313129.91805466 -313718.95977348 -313748.02434955 -313817.77922815\n",
      " -315455.08267092]\n",
      "[161604.         161628.48979592 161652.97959184 161677.46938776\n",
      " 161701.95918367 161726.44897959 161750.93877551 161775.42857143\n",
      " 161799.91836735 161824.40816327 161848.89795918 161873.3877551\n",
      " 161897.87755102 161922.36734694 161946.85714286 161971.34693878\n",
      " 161995.83673469 162020.32653061 162044.81632653 162069.30612245\n",
      " 162093.79591837 162118.28571429 162142.7755102  162167.26530612\n",
      " 162191.75510204 162216.24489796 162240.73469388 162265.2244898\n",
      " 162289.71428571 162314.20408163 162338.69387755 162363.18367347\n",
      " 162387.67346939 162412.16326531 162436.65306122 162461.14285714\n",
      " 162485.63265306 162510.12244898 162534.6122449  162559.10204082\n",
      " 162583.59183673 162608.08163265 162632.57142857 162657.06122449\n",
      " 162681.55102041 162706.04081633 162730.53061224 162755.02040816\n",
      " 162779.51020408 162804.        ]\n",
      "[2771981.21866095 2772030.19825279 2772079.17784462 2772128.15743646\n",
      " 2772177.1370283  2772226.11662013 2772275.09621197 2772324.07580381\n",
      " 2772373.05539564 2772422.03498748 2772471.01457932 2772519.99417115\n",
      " 2772568.97376299 2772617.95335483 2772666.93294666 2772715.9125385\n",
      " 2772764.89213034 2772813.87172218 2772862.85131401 2772911.83090585\n",
      " 2772960.81049769 2773009.79008952 2773058.76968136 2773107.7492732\n",
      " 2773156.72886503 2773205.70845687 2773254.68804871 2773303.66764054\n",
      " 2773352.64723238 2773401.62682422 2773450.60641605 2773499.58600789\n",
      " 2773548.56559973 2773597.54519156 2773646.5247834  2773695.50437524\n",
      " 2773744.48396707 2773793.46355891 2773842.44315075 2773891.42274258\n",
      " 2773940.40233442 2773989.38192626 2774038.36151809 2774087.34110993\n",
      " 2774136.32070177 2774185.3002936  2774234.27988544 2774283.25947728\n",
      " 2774332.23906911 2774381.21866095]\n",
      "50\n",
      "9.281648547106231e+19\n"
     ]
    }
   ],
   "source": [
    "# define a sequence of inputs between the smallest and largest known inputs\n",
    "x_min, x_max = np.amin(x), np.amax(x)\n",
    "x_line = np.linspace(x_min, x_max)\n",
    "# calculate the output for the range\n",
    "y_line = linear_fit(x_line, m, c)\n",
    "\n",
    "ys = m*x + c #just only our data point\n",
    "Residual = y - ys\n",
    "print(y)\n",
    "print(ys)\n",
    "print(Residual)\n",
    "\n",
    "print(x_line)\n",
    "print(y_line)\n",
    "print(len(x_line))\n",
    "\n",
    "np.savetxt(\"Linear_fit_period_year_2020g.out\", np.c_[x, Residual, dy])\n",
    "\n",
    "#Reduced_chisqrt\n",
    "m = 2\n",
    "dof = len_x - m\n",
    "Chi_sqr = ((y - ys)**2/(dy)**2)/dof\n",
    "Reduced_chisq = sum(Chi_sqr)\n",
    "print(Reduced_chisq)"
   ]
  },
  {
   "cell_type": "code",
   "execution_count": 8,
   "id": "e0991b57",
   "metadata": {},
   "outputs": [
    {
     "data": {
      "image/png": "[encoded data removed]",
      "text/plain": [
       "<Figure size 720x360 with 1 Axes>"
      ]
     },
     "metadata": {
      "needs_background": "light"
     },
     "output_type": "display_data"
    }
   ],
   "source": [
    "#Plotgraph\n",
    "fig=plt.figure(figsize=(10, 5))\n",
    "plt.errorbar(x, y, yerr= dy, fmt='o', markersize=8, color='blue', ecolor='lightgray')\n",
    "# create a line plot for the mapping function\n",
    "plt.plot(x_line, y_line, '-', color='red')\n",
    "#plt.plot(BJD_time, OC_s_ecc, lw=2, color='black')\n",
    "#plt.xlim(-6000,6000)\n",
    "#plt.ylim(-200,200)\n",
    "#plt.ylim(-40,60)\n",
    "plt.xlabel('Epoch')\n",
    "plt.ylabel('$T_{E}$')\n",
    "plt.grid(linestyle='dotted')\n",
    "#####plt.title('O-C diagram: DP Leo')\n",
    "#output_filename = os.path.splitext(__file__)[0] + '.png'\n",
    "#plt.savefig(output_filename, dpi=1000)\n",
    "plt.show()"
   ]
  },
  {
   "cell_type": "code",
   "execution_count": 9,
   "id": "c956b8d4",
   "metadata": {},
   "outputs": [
    {
     "data": {
      "image/png": "[encoded data removed]",
      "text/plain": [
       "<Figure size 720x360 with 2 Axes>"
      ]
     },
     "metadata": {
      "needs_background": "light"
     },
     "output_type": "display_data"
    }
   ],
   "source": [
    "fig, (ax0, ax1) = plt.subplots(2, 1, gridspec_kw={'height_ratios': [4, 1]}, sharex=True, sharey=False, figsize=(10, 5), tight_layout=True)\n",
    "plt.xlabel('Epoch')\n",
    "\n",
    "ax0.tick_params(direction='in', which='both', bottom='on',top='on', right = 'on')\n",
    "ax1.tick_params(direction='in', which='both', bottom='on',top='on', right = 'on')\n",
    "\n",
    "ax0.errorbar(x, y, yerr= dy, fmt='o', markersize=8, color='blue', ecolor='lightgray')\n",
    "ax0.plot(x_line, y_line, '-', color='red',label='Linear\\_fit, $\\chi_{red}^{2}$ = '+str('%0.3f' %(Reduced_chisq)))\n",
    "\n",
    "ax0.legend(loc=\"best\")\n",
    "ax0.set_ylabel('$T_{E}$')\n",
    "ax1.set_ylabel('Residuals (sec)')\n",
    "\n",
    "\n",
    "ax1.errorbar(x, Residual, yerr= dy, fmt='o', markersize=8, color='black', ecolor='lightgray')\n",
    "ax1.axhline(y=0, color='black', linestyle='-')\n",
    "plt.savefig(\"Linear_fit_period_year_2020g_Res.jpg\", dpi=1000)\n",
    "\n",
    "plt.show()"
   ]
  },
  {
   "cell_type": "code",
   "execution_count": null,
   "id": "4facb327",
   "metadata": {},
   "outputs": [],
   "source": []
  },
  {
   "cell_type": "code",
   "execution_count": null,
   "id": "08543e0b",
   "metadata": {},
   "outputs": [],
   "source": []
  }
 ],
 "metadata": {
  "kernelspec": {
   "display_name": "Python 3 (ipykernel)",
   "language": "python",
   "name": "python3"
  },
  "language_info": {
   "codemirror_mode": {
    "name": "ipython",
    "version": 3
   },
   "file_extension": ".py",
   "mimetype": "text/x-python",
   "name": "python",
   "nbconvert_exporter": "python",
   "pygments_lexer": "ipython3",
   "version": "3.9.7"
  }
 },
 "nbformat": 4,
 "nbformat_minor": 5
}
